{
 "cells": [
  {
   "cell_type": "code",
   "execution_count": 1,
   "id": "13cf335b-19b4-4053-86da-8b8637c01239",
   "metadata": {},
   "outputs": [
    {
     "name": "stderr",
     "output_type": "stream",
     "text": [
      "SWAT 1.9.0\n",
      "\n"
     ]
    },
    {
     "name": "stdout",
     "output_type": "stream",
     "text": [
      "[1] \"ERROR: Failed to connect to host 'localhost', port 5570.\"\n"
     ]
    },
    {
     "ename": "ERROR",
     "evalue": "Error in ans@ref: no applicable method for `@` applied to an object of class \"NULL\"\n",
     "output_type": "error",
     "traceback": [
      "Error in ans@ref: no applicable method for `@` applied to an object of class \"NULL\"\nTraceback:\n",
      "1. swat::CAS(Sys.getenv(\"CAS_CONTROLLER\"), 5570, password = Sys.getenv(\"ACCESS_TOKEN\"))",
      "2. new(structure(\"CAS\", package = \"swat\"), ...)",
      "3. initialize(value, ...)",
      "4. initialize(value, ...)",
      "5. .Object$initialize(...)",
      "6. CASConnection(.self$hostname, .self$port, .self$username, password, \n .     soptions, sw_error)",
      "7. reg.finalizer(ans@ref, delete_SW_CASConnection)"
     ]
    }
   ],
   "source": [
    "library(swat)\n",
    "conn <- swat::CAS(Sys.getenv('CAS_CONTROLLER'), 5570, password=Sys.getenv('ACCESS_TOKEN'))\n",
    "conn"
   ]
  },
  {
   "cell_type": "code",
   "execution_count": null,
   "id": "c9cf46c5-45c9-4acc-b52b-02b52fd579f9",
   "metadata": {},
   "outputs": [],
   "source": []
  }
 ],
 "metadata": {
  "kernelspec": {
   "display_name": "R",
   "language": "R",
   "name": "ir"
  },
  "language_info": {
   "codemirror_mode": "r",
   "file_extension": ".r",
   "mimetype": "text/x-r-source",
   "name": "R",
   "pygments_lexer": "r",
   "version": "4.4.1"
  }
 },
 "nbformat": 4,
 "nbformat_minor": 5
}
