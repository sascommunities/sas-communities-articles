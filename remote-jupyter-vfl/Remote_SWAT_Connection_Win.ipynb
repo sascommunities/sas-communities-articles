{
 "cells": [
  {
   "cell_type": "code",
   "execution_count": null,
   "id": "e0d5b86c-7711-4bbc-8997-421138836639",
   "metadata": {},
   "outputs": [],
   "source": [
    "# Create Variables\n",
    "sasserver=\"\" #URL of SAS Viya for Learners\n",
    "files_location=\"\" # Path to Jupyter notebook and .pem files"
   ]
  },
  {
   "cell_type": "code",
   "execution_count": null,
   "id": "8b175f32-7a3e-4c20-adfc-1aad645b5d02",
   "metadata": {},
   "outputs": [],
   "source": [
    "import os\n",
    "import swat\n",
    "!cd files_location\n",
    "conn = swat.CAS(hostname=sasserver + \"/cas-shared-default-http\", ssl_ca_list=\".\\certificate.pem\", password=os.environ['ACCESS_TOKEN'], protocol=\"https\")\n",
    "conn"
   ]
  },
  {
   "cell_type": "code",
   "execution_count": null,
   "id": "8073b233-cfb2-40f3-b465-58da3798656f",
   "metadata": {},
   "outputs": [],
   "source": []
  }
 ],
 "metadata": {
  "kernelspec": {
   "display_name": "Python 3 (ipykernel)",
   "language": "python",
   "name": "python3"
  },
  "language_info": {
   "codemirror_mode": {
    "name": "ipython",
    "version": 3
   },
   "file_extension": ".py",
   "mimetype": "text/x-python",
   "name": "python",
   "nbconvert_exporter": "python",
   "pygments_lexer": "ipython3",
   "version": "3.11.9"
  }
 },
 "nbformat": 4,
 "nbformat_minor": 5
}
