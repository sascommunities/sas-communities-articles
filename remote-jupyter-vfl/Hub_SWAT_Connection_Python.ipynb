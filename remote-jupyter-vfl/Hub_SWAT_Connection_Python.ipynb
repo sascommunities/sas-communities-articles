{
 "cells": [
  {
   "cell_type": "code",
   "execution_count": null,
   "id": "19dbd67a-9e84-42cb-805c-534bc4a2be0a",
   "metadata": {},
   "outputs": [],
   "source": [
    "import swat, os\n",
    "conn = swat.CAS(os.environ['CAS_CONTROLLER'], 5570, password=os.environ['ACCESS_TOKEN'])\n",
    "conn"
   ]
  }
 ],
 "metadata": {
  "kernelspec": {
   "display_name": "Python 3 (ipykernel)",
   "language": "python",
   "name": "python3"
  },
  "language_info": {
   "codemirror_mode": {
    "name": "ipython",
    "version": 3
   },
   "file_extension": ".py",
   "mimetype": "text/x-python",
   "name": "python",
   "nbconvert_exporter": "python",
   "pygments_lexer": "ipython3",
   "version": "3.11.9"
  }
 },
 "nbformat": 4,
 "nbformat_minor": 5
}
